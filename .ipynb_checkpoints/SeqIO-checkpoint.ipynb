{
 "cells": [
  {
   "cell_type": "markdown",
   "metadata": {},
   "source": [
    "# Brief tutorial to Bio.SeqIO\n",
    "Author: Jesús Gómez Sola\n",
    "## Introduction\n",
    "\n",
    "This is a brief tutorial for the use of the module SeqIO from Bio. We'll check how to read a sequence from a file, from the net, and treat that data.\n",
    "## Reading\n",
    "To read, we use SeqIO.parse(...) or SeqIO.read(...). The important parameters of this function are the first one as the file name or an already opened file, and a second parameter as the format of the file.\n"
   ]
  },
  {
   "cell_type": "code",
   "execution_count": null,
   "metadata": {},
   "outputs": [],
   "source": [
    "from Bio import SeqIO\n",
    "for seq_record in SeqIO.parse(\"ls_orchid.fasta\", \"fasta\"):\n",
    "    print(seq_record.id)\n",
    "    print(repr(seq_record.seq))\n",
    "    print(len(seq_record))"
   ]
  },
  {
   "cell_type": "markdown",
   "metadata": {},
   "source": [
    "This block takes the file ls_orchid.fasta as a fasta format file and reads it as a seqRecord object. These objects contain a sequence found in the file.\n",
    "Once you run this code, it'll print for each record found its id, a bit of its sequence and its length.\n",
    "Still there are many more formats supported. For all the supported files, see https://biopython.org/wiki/SeqIO . For the rest of this tutorial we'll work with a ls_orchid.gbk that has a genbank format.\n",
    "\n",
    "Since it's an iterator, we can use it as a list. For example to get the identifiers"
   ]
  },
  {
   "cell_type": "code",
   "execution_count": null,
   "metadata": {},
   "outputs": [],
   "source": [
    "identifiers = [seq_record.id for seq_record in SeqIO.parse(\"ls_orchid.gbk\", \"genbank\")]\n",
    "print(identifiers)"
   ]
  },
  {
   "cell_type": "markdown",
   "metadata": {},
   "source": [
    "We see the result is a list of identifiers as Strings. As an iterator we can use .next() for iterate one by one"
   ]
  },
  {
   "cell_type": "code",
   "execution_count": null,
   "metadata": {},
   "outputs": [],
   "source": [
    "record_iterator = SeqIO.parse(\"ls_orchid.fasta\", \"fasta\")"
   ]
  },
  {
   "cell_type": "markdown",
   "metadata": {},
   "source": [
    "We get the record iterator from the file and then for every following one we can get it with the .next() function"
   ]
  },
  {
   "cell_type": "code",
   "execution_count": null,
   "metadata": {},
   "outputs": [],
   "source": [
    "first_record = next(record_iterator)\n",
    "print(first_record.id)\n",
    "second_record = next(record_iterator)\n",
    "print(second_record.id)"
   ]
  },
  {
   "cell_type": "markdown",
   "metadata": {},
   "source": [
    "Still it is easier to work with the records as a list, for that we simply wrap it like this:"
   ]
  },
  {
   "cell_type": "code",
   "execution_count": null,
   "metadata": {},
   "outputs": [],
   "source": [
    "records = list(SeqIO.parse(\"ls_orchid.gbk\", \"genbank\"))"
   ]
  },
  {
   "cell_type": "markdown",
   "metadata": {},
   "source": [
    "## Extracting data\n",
    "Lets take a look at the annotations"
   ]
  },
  {
   "cell_type": "code",
   "execution_count": null,
   "metadata": {},
   "outputs": [],
   "source": [
    "print(first_record.annotations)"
   ]
  },
  {
   "cell_type": "markdown",
   "metadata": {},
   "source": [
    "This is a dictionary, so we can check it as keys or values"
   ]
  },
  {
   "cell_type": "code",
   "execution_count": null,
   "metadata": {},
   "outputs": [],
   "source": [
    "print(first_record.annotations.keys())\n",
    "print(first_record.annotations.values())"
   ]
  },
  {
   "cell_type": "markdown",
   "metadata": {},
   "source": [
    "Values here are usually strings, except for references that are reference objects. For example lets get a list of the species"
   ]
  },
  {
   "cell_type": "code",
   "execution_count": null,
   "metadata": {},
   "outputs": [],
   "source": [
    "print(first_record.annotations[\"source\"])\n",
    "print(first_record.annotations[\"organism\"])"
   ]
  },
  {
   "cell_type": "markdown",
   "metadata": {},
   "source": [
    "Here organism is the scientific name and source the common on.\n",
    "\n",
    "To get all the species, we can create a list and iterate to append to the list each organism"
   ]
  },
  {
   "cell_type": "code",
   "execution_count": null,
   "metadata": {},
   "outputs": [],
   "source": [
    "all_species = []\n",
    "for seq_record in SeqIO.parse(\"ls_orchid.gbk\", \"genbank\"):\n",
    "    all_species.append(seq_record.annotations[\"organism\"])\n",
    "print(all_species)"
   ]
  },
  {
   "cell_type": "markdown",
   "metadata": {},
   "source": [
    "For a fasta file, you should take the information from the description, for example using a list it could be as:"
   ]
  },
  {
   "cell_type": "code",
   "execution_count": null,
   "metadata": {},
   "outputs": [],
   "source": [
    "all_species = [seq_record.description.split()[1] for seq_record in \\\n",
    "                SeqIO.parse(\"ls_orchid.fasta\", \"fasta\")]\n",
    "print(all_species)"
   ]
  },
  {
   "cell_type": "markdown",
   "metadata": {},
   "source": [
    "This takes from the description the second separation"
   ]
  },
  {
   "cell_type": "markdown",
   "metadata": {},
   "source": [
    "## Opening from a Compressed File\n",
    "Sometimes you want to open a compressed file, for that, we simply need to import, for example gzip for that extension and we'll have:"
   ]
  },
  {
   "cell_type": "code",
   "execution_count": null,
   "metadata": {},
   "outputs": [],
   "source": [
    "#import gzip\n",
    "#with gzip.open(\"ls_orchid.gbk.gz\",\"rt\") as handle:\n",
    "#     print(sum(len(r)) for r in SeqIO.parse(handle,\"gb\"))"
   ]
  },
  {
   "cell_type": "markdown",
   "metadata": {},
   "source": [
    "Since we don't have the file, we comment it. Here we open the file with a handle, that is similar to a wrapper and calculate the total length of the sequences.\n",
    "## Online Reading\n",
    "Since for this the Entrez module is used, we won't focus on this as another partner does"
   ]
  },
  {
   "cell_type": "code",
   "execution_count": null,
   "metadata": {},
   "outputs": [],
   "source": [
    "from Bio import Entrez\n",
    "Entrez.email = \"A.N.Other@example.com\"\n",
    "with Entrez.efetch(db=\"nucleotide\", rettype=\"gb\", retmode=\"text\", id=\"6273291\") as handle:\n",
    "    seq_record = SeqIO.read(handle, \"gb\") #using \"gb\" as an alias for \"genbank\"\n",
    "print(\"%s with %i features\" % (seq_record.id, len(seq_record.features)))"
   ]
  },
  {
   "cell_type": "markdown",
   "metadata": {},
   "source": [
    "As you can see we do the same as before, bring it with entrez and handle it to use it later with SeqIO. You can see read() as the other function, working as well as parse()\n",
    "## Sequence files as dictionaries\n",
    "3 fucntions we'll see:\n",
    "-   to_dict(): flexible, memory consuming, faster\n",
    "-   index(): readable only, pareses sequences into SeqRecords when asked only\n",
    "-   index_db(): readable only, only storing identifiers on disk. Requires few memory but is slower.\n",
    "\n",
    "So to begin we'll show the to_dict() function, pretty easy to comprehend"
   ]
  },
  {
   "cell_type": "code",
   "execution_count": null,
   "metadata": {},
   "outputs": [],
   "source": [
    "orchid_dict = SeqIO.to_dict(SeqIO.parse(\"ls_orchid.gbk\", \"genbank\"))"
   ]
  },
  {
   "cell_type": "markdown",
   "metadata": {},
   "source": [
    "Checking keys, we can see they are each sequence id"
   ]
  },
  {
   "cell_type": "code",
   "execution_count": null,
   "metadata": {},
   "outputs": [],
   "source": [
    "list(orchid_dict.keys())"
   ]
  },
  {
   "cell_type": "markdown",
   "metadata": {},
   "source": [
    "For the index one:"
   ]
  },
  {
   "cell_type": "code",
   "execution_count": null,
   "metadata": {},
   "outputs": [],
   "source": [
    "orchid_dict = SeqIO.index(\"ls_orchid.gbk\", \"genbank\")\n",
    "orchid_dict.keys()"
   ]
  },
  {
   "cell_type": "markdown",
   "metadata": {},
   "source": [
    "The index_db has 3 values:\n",
    "    - Index filename: an actual SQLite3 database.\n",
    "    - List of sequence filenames to index\n",
    "    - File format\n",
    "Won't be avle to demo this because file too big:"
   ]
  },
  {
   "cell_type": "code",
   "execution_count": null,
   "metadata": {},
   "outputs": [],
   "source": [
    "#import glob\n",
    "#files = glob.glob(\"gbvrl*.seq\")\n",
    "#print(\"%i files to index\" % len(files))\n",
    "#gb_vrl = SeqIO.index_db(\"gbvrl.idx\", files, \"genbank\")\n",
    "#print(\"%i sequences indexed\" % len(gb_vrl))\n"
   ]
  },
  {
   "cell_type": "markdown",
   "metadata": {},
   "source": [
    "To choose between these last 2, as always, take in mind how often will the data update and the availability of memory.\n",
    "Followed the tutorial on http://biopython.org/DIST/docs/tutorial/Tutorial.pdf, which I recommend."
   ]
  }
 ],
 "metadata": {
  "kernelspec": {
   "display_name": "Python 3",
   "language": "python",
   "name": "python3"
  },
  "language_info": {
   "codemirror_mode": {
    "name": "ipython",
    "version": 3
   },
   "file_extension": ".py",
   "mimetype": "text/x-python",
   "name": "python",
   "nbconvert_exporter": "python",
   "pygments_lexer": "ipython3",
   "version": "3.6.4"
  }
 },
 "nbformat": 4,
 "nbformat_minor": 2
}
